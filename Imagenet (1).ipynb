{
  "cells": [
    {
      "cell_type": "code",
      "execution_count": null,
      "id": "94afd922",
      "metadata": {
        "id": "94afd922",
        "outputId": "5fc891e3-bb20-46d4-8ee3-7ab862ef46c6"
      },
      "outputs": [
        {
          "name": "stderr",
          "output_type": "stream",
          "text": [
            "2023-07-07 10:06:46.700303: I tensorflow/core/platform/cpu_feature_guard.cc:193] This TensorFlow binary is optimized with oneAPI Deep Neural Network Library (oneDNN) to use the following CPU instructions in performance-critical operations:  AVX2 AVX512F AVX512_VNNI FMA\n",
            "To enable them in other operations, rebuild TensorFlow with the appropriate compiler flags.\n",
            "2023-07-07 10:06:46.834300: I tensorflow/core/util/util.cc:169] oneDNN custom operations are on. You may see slightly different numerical results due to floating-point round-off errors from different computation orders. To turn them off, set the environment variable `TF_ENABLE_ONEDNN_OPTS=0`.\n",
            "2023-07-07 10:06:46.839958: W tensorflow/stream_executor/platform/default/dso_loader.cc:64] Could not load dynamic library 'libcudart.so.11.0'; dlerror: libcudart.so.11.0: cannot open shared object file: No such file or directory\n",
            "2023-07-07 10:06:46.839976: I tensorflow/stream_executor/cuda/cudart_stub.cc:29] Ignore above cudart dlerror if you do not have a GPU set up on your machine.\n",
            "2023-07-07 10:06:46.869119: E tensorflow/stream_executor/cuda/cuda_blas.cc:2981] Unable to register cuBLAS factory: Attempting to register factory for plugin cuBLAS when one has already been registered\n",
            "2023-07-07 10:06:47.533593: W tensorflow/stream_executor/platform/default/dso_loader.cc:64] Could not load dynamic library 'libnvinfer.so.7'; dlerror: libnvinfer.so.7: cannot open shared object file: No such file or directory\n",
            "2023-07-07 10:06:47.533646: W tensorflow/stream_executor/platform/default/dso_loader.cc:64] Could not load dynamic library 'libnvinfer_plugin.so.7'; dlerror: libnvinfer_plugin.so.7: cannot open shared object file: No such file or directory\n",
            "2023-07-07 10:06:47.533653: W tensorflow/compiler/tf2tensorrt/utils/py_utils.cc:38] TF-TRT Warning: Cannot dlopen some TensorRT libraries. If you would like to use Nvidia GPU with TensorRT, please make sure the missing libraries mentioned above are installed properly.\n"
          ]
        }
      ],
      "source": [
        "\n",
        "\n",
        "import tensorflow as tf\n",
        "from keras.preprocessing.image import ImageDataGenerator\n",
        "from keras.models import Sequential\n",
        "from keras.layers import Dense , Dropout , Flatten, Conv2D, MaxPool2D\n",
        "\n"
      ]
    },
    {
      "cell_type": "code",
      "execution_count": null,
      "id": "e0c6f79f",
      "metadata": {
        "id": "e0c6f79f"
      },
      "outputs": [],
      "source": [
        "\n",
        "def build_cnn(input_shape=(224,224,3), num_classes = 10):\n",
        "    ''' Defines a CNN Model with specified number of Input shape and number of classes'''\n",
        "    model = Sequential()\n",
        "\n",
        "    model.add(Conv2D(32,(3,3),activation = 'relu',\n",
        "                    input_shape = input_shape))\n",
        "\n",
        "    model.add(MaxPool2D((2,2)))\n",
        "\n",
        "    model.add(Conv2D(64,(3,3),activation = 'relu'))\n",
        "    model.add(MaxPool2D((2,2)))\n",
        "\n",
        "    model.add(Flatten())\n",
        "\n",
        "    model.add(Dense(num_classes, activation='softmax'))\n",
        "    return model\n"
      ]
    },
    {
      "cell_type": "code",
      "execution_count": null,
      "id": "f168b2e4",
      "metadata": {
        "id": "f168b2e4",
        "outputId": "0eaf284e-22da-4322-e03a-fdff5d159216"
      },
      "outputs": [
        {
          "name": "stderr",
          "output_type": "stream",
          "text": [
            "2023-07-07 10:06:52.899151: W tensorflow/stream_executor/platform/default/dso_loader.cc:64] Could not load dynamic library 'libcuda.so.1'; dlerror: libcuda.so.1: cannot open shared object file: No such file or directory\n",
            "2023-07-07 10:06:52.899186: W tensorflow/stream_executor/cuda/cuda_driver.cc:263] failed call to cuInit: UNKNOWN ERROR (303)\n",
            "2023-07-07 10:06:52.899208: I tensorflow/stream_executor/cuda/cuda_diagnostics.cc:156] kernel driver does not appear to be running on this host (dai-Precision-7820-Tower): /proc/driver/nvidia/version does not exist\n",
            "2023-07-07 10:06:52.899497: I tensorflow/core/platform/cpu_feature_guard.cc:193] This TensorFlow binary is optimized with oneAPI Deep Neural Network Library (oneDNN) to use the following CPU instructions in performance-critical operations:  AVX2 AVX512F AVX512_VNNI FMA\n",
            "To enable them in other operations, rebuild TensorFlow with the appropriate compiler flags.\n"
          ]
        }
      ],
      "source": [
        "model = build_cnn()\n"
      ]
    },
    {
      "cell_type": "code",
      "execution_count": null,
      "id": "5f78b76f",
      "metadata": {
        "id": "5f78b76f",
        "outputId": "7f971a75-81da-405e-dda6-d7ddcb830926"
      },
      "outputs": [
        {
          "name": "stdout",
          "output_type": "stream",
          "text": [
            "Model: \"sequential\"\n",
            "_________________________________________________________________\n",
            " Layer (type)                Output Shape              Param #   \n",
            "=================================================================\n",
            " conv2d (Conv2D)             (None, 222, 222, 32)      896       \n",
            "                                                                 \n",
            " max_pooling2d (MaxPooling2D  (None, 111, 111, 32)     0         \n",
            " )                                                               \n",
            "                                                                 \n",
            " conv2d_1 (Conv2D)           (None, 109, 109, 64)      18496     \n",
            "                                                                 \n",
            " max_pooling2d_1 (MaxPooling  (None, 54, 54, 64)       0         \n",
            " 2D)                                                             \n",
            "                                                                 \n",
            " flatten (Flatten)           (None, 186624)            0         \n",
            "                                                                 \n",
            " dense (Dense)               (None, 10)                1866250   \n",
            "                                                                 \n",
            "=================================================================\n",
            "Total params: 1,885,642\n",
            "Trainable params: 1,885,642\n",
            "Non-trainable params: 0\n",
            "_________________________________________________________________\n"
          ]
        }
      ],
      "source": [
        "model.summary()"
      ]
    },
    {
      "cell_type": "code",
      "execution_count": null,
      "id": "8eefb0de",
      "metadata": {
        "id": "8eefb0de"
      },
      "outputs": [],
      "source": [
        "# Create the object of image data generator"
      ]
    },
    {
      "cell_type": "code",
      "execution_count": null,
      "id": "b534041a",
      "metadata": {
        "id": "b534041a"
      },
      "outputs": [],
      "source": [
        "\n",
        "train_datagen = ImageDataGenerator(\n",
        "                rescale=1/255,\n",
        "                shear_range=0.2,\n",
        "                zoom_range=0.2,\n",
        "                horizontal_flip = True)\n"
      ]
    },
    {
      "cell_type": "code",
      "execution_count": null,
      "id": "8ac9d8ab",
      "metadata": {
        "id": "8ac9d8ab"
      },
      "outputs": [],
      "source": [
        "test_datagen = ImageDataGenerator(rescale = 1/255)\n"
      ]
    },
    {
      "cell_type": "raw",
      "id": "29d5d454",
      "metadata": {
        "id": "29d5d454"
      },
      "source": []
    },
    {
      "cell_type": "code",
      "execution_count": null,
      "id": "e1716e89",
      "metadata": {
        "id": "e1716e89",
        "outputId": "e686ed21-bea6-491b-91b8-dafd388bd65e"
      },
      "outputs": [
        {
          "name": "stdout",
          "output_type": "stream",
          "text": [
            "Found 5000 images belonging to 10 classes.\n"
          ]
        }
      ],
      "source": [
        "\n",
        "train_dataset = train_datagen.flow_from_directory(\n",
        "               '/home/dai/scripts/Computer Vision/tiny-imagenet-200/train',\n",
        "               target_size = (224,224), # all the images are loaded into this size\n",
        "               batch_size = 32,\n",
        "               class_mode = 'categorical')"
      ]
    },
    {
      "cell_type": "code",
      "execution_count": null,
      "id": "34802f29",
      "metadata": {
        "id": "34802f29",
        "outputId": "18d1f45c-9cc5-4b0c-896a-da869c787c6f"
      },
      "outputs": [
        {
          "name": "stdout",
          "output_type": "stream",
          "text": [
            "Found 10000 images belonging to 1 classes.\n"
          ]
        }
      ],
      "source": [
        "\n",
        "test_dataset = test_datagen.flow_from_directory(\n",
        "               '/home/dai/scripts/Computer Vision/tiny-imagenet-200/val',\n",
        "               target_size = (224,224),\n",
        "               batch_size = 32,\n",
        "               class_mode = 'categorical')"
      ]
    },
    {
      "cell_type": "code",
      "execution_count": null,
      "id": "92af5862",
      "metadata": {
        "id": "92af5862",
        "outputId": "47a4971d-e1aa-4d92-86b1-be58dba7f0cd"
      },
      "outputs": [
        {
          "data": {
            "text/plain": [
              "{'n01443537': 0,\n",
              " 'n01629819': 1,\n",
              " 'n01641577': 2,\n",
              " 'n01644900': 3,\n",
              " 'n01698640': 4,\n",
              " 'n01742172': 5,\n",
              " 'n01768244': 6,\n",
              " 'n01770393': 7,\n",
              " 'n01774384': 8,\n",
              " 'n01774750': 9}"
            ]
          },
          "execution_count": 11,
          "metadata": {},
          "output_type": "execute_result"
        }
      ],
      "source": [
        "train_dataset.class_indices\n"
      ]
    },
    {
      "cell_type": "code",
      "execution_count": null,
      "id": "4d5b6ca5",
      "metadata": {
        "id": "4d5b6ca5"
      },
      "outputs": [],
      "source": [
        "model.compile(loss = 'categorical_crossentropy',\n",
        "             optimizer = 'adam',\n",
        "             metrics = ['accuracy'])\n",
        "\n"
      ]
    },
    {
      "cell_type": "code",
      "execution_count": null,
      "id": "0d3b6920",
      "metadata": {
        "scrolled": false,
        "id": "0d3b6920",
        "outputId": "3f9c8f09-8af9-42f2-c555-b2f5f808ab28"
      },
      "outputs": [
        {
          "name": "stdout",
          "output_type": "stream",
          "text": [
            "Epoch 1/2\n",
            "157/157 [==============================] - 75s 477ms/step - loss: 1.1575 - accuracy: 0.6106\n",
            "Epoch 2/2\n",
            "157/157 [==============================] - 75s 475ms/step - loss: 1.1434 - accuracy: 0.6158\n"
          ]
        },
        {
          "data": {
            "text/plain": [
              "<keras.callbacks.History at 0x7fcd9c78a590>"
            ]
          },
          "execution_count": 15,
          "metadata": {},
          "output_type": "execute_result"
        }
      ],
      "source": [
        "model.fit(train_dataset, epochs = 2)\n"
      ]
    },
    {
      "cell_type": "code",
      "execution_count": null,
      "id": "7003311a",
      "metadata": {
        "id": "7003311a"
      },
      "outputs": [],
      "source": [
        "#predict class of new image\n",
        "import matplotlib.pyplot as plt\n"
      ]
    },
    {
      "cell_type": "code",
      "execution_count": null,
      "id": "a8929014",
      "metadata": {
        "id": "a8929014",
        "outputId": "469b70fe-6852-4f22-84cf-09c12a1b9e69"
      },
      "outputs": [
        {
          "data": {
            "text/plain": [
              "<matplotlib.image.AxesImage at 0x7fccdc59b0a0>"
            ]
          },
          "execution_count": 60,
          "metadata": {},
          "output_type": "execute_result"
        },
        {
          "data": {
            "image/png": "[encoded data removed]",
            "text/plain": [
              "<Figure size 640x480 with 1 Axes>"
            ]
          },
          "metadata": {},
          "output_type": "display_data"
        }
      ],
      "source": [
        "new = plt.imread('/home/dai/scripts/Computer Vision/tiny-imagenet-200/val/images/val_192.JPEG')\n",
        "plt.imshow(new)"
      ]
    },
    {
      "cell_type": "code",
      "execution_count": null,
      "id": "063f8835",
      "metadata": {
        "id": "063f8835"
      },
      "outputs": [],
      "source": [
        "import numpy as np\n",
        "from tensorflow.keras.preprocessing import image\n",
        "test_image = image.load_img('/home/dai/scripts/Computer Vision/tiny-imagenet-200/val/images/val_192.JPEG', target_size=(224,224))"
      ]
    },
    {
      "cell_type": "code",
      "execution_count": null,
      "id": "7cc78f28",
      "metadata": {
        "id": "7cc78f28",
        "outputId": "fe42ac09-4f11-4990-ee08-acec5ae8da72"
      },
      "outputs": [
        {
          "data": {
            "image/png": "[encoded data removed]",
            "text/plain": [
              "<PIL.Image.Image image mode=RGB size=224x224>"
            ]
          },
          "execution_count": 62,
          "metadata": {},
          "output_type": "execute_result"
        }
      ],
      "source": [
        "test_image"
      ]
    },
    {
      "cell_type": "code",
      "execution_count": null,
      "id": "62af5737",
      "metadata": {
        "id": "62af5737"
      },
      "outputs": [],
      "source": [
        "test_image = image.img_to_array(test_image)"
      ]
    },
    {
      "cell_type": "code",
      "execution_count": null,
      "id": "976c2aee",
      "metadata": {
        "id": "976c2aee"
      },
      "outputs": [],
      "source": [
        "test_image = np.expand_dims(test_image,axis= 0)"
      ]
    },
    {
      "cell_type": "code",
      "execution_count": null,
      "id": "727fa417",
      "metadata": {
        "id": "727fa417",
        "outputId": "d321018b-0558-4753-9f36-c38de4b7f1d7"
      },
      "outputs": [
        {
          "data": {
            "text/plain": [
              "(1, 224, 224, 3)"
            ]
          },
          "execution_count": 65,
          "metadata": {},
          "output_type": "execute_result"
        }
      ],
      "source": [
        "test_image.shape"
      ]
    },
    {
      "cell_type": "code",
      "execution_count": null,
      "id": "8c98d818",
      "metadata": {
        "id": "8c98d818",
        "outputId": "fa6a0b52-a998-417d-9d49-6a43b9bd2b9c"
      },
      "outputs": [
        {
          "name": "stdout",
          "output_type": "stream",
          "text": [
            "1/1 [==============================] - 0s 29ms/step\n"
          ]
        },
        {
          "data": {
            "text/plain": [
              "array([[0., 0., 0., 0., 0., 0., 0., 0., 1., 0.]], dtype=float32)"
            ]
          },
          "execution_count": 66,
          "metadata": {},
          "output_type": "execute_result"
        }
      ],
      "source": [
        "model.predict(test_image)"
      ]
    },
    {
      "cell_type": "code",
      "execution_count": null,
      "id": "c307fbbc",
      "metadata": {
        "id": "c307fbbc",
        "outputId": "1a9cce7e-3989-44ea-f34f-513479f587c7"
      },
      "outputs": [
        {
          "name": "stdout",
          "output_type": "stream",
          "text": [
            "1/1 [==============================] - 0s 26ms/step\n"
          ]
        },
        {
          "data": {
            "text/plain": [
              "0.0"
            ]
          },
          "execution_count": 67,
          "metadata": {},
          "output_type": "execute_result"
        }
      ],
      "source": [
        "model.predict(test_image)[0][0]"
      ]
    },
    {
      "cell_type": "code",
      "execution_count": null,
      "id": "bc38fa5c",
      "metadata": {
        "id": "bc38fa5c",
        "outputId": "4f165156-2b6e-4880-dda8-d912af9f3ce5"
      },
      "outputs": [
        {
          "name": "stdout",
          "output_type": "stream",
          "text": [
            "1/1 [==============================] - 0s 25ms/step\n"
          ]
        },
        {
          "data": {
            "text/plain": [
              "8"
            ]
          },
          "execution_count": 68,
          "metadata": {},
          "output_type": "execute_result"
        }
      ],
      "source": [
        "np.argmax(model.predict(test_image))"
      ]
    },
    {
      "cell_type": "code",
      "execution_count": null,
      "id": "c136066a",
      "metadata": {
        "id": "c136066a"
      },
      "outputs": [],
      "source": []
    },
    {
      "cell_type": "code",
      "execution_count": null,
      "id": "72b93e7b",
      "metadata": {
        "id": "72b93e7b"
      },
      "outputs": [],
      "source": []
    },
    {
      "cell_type": "code",
      "execution_count": null,
      "id": "96181a55",
      "metadata": {
        "id": "96181a55"
      },
      "outputs": [],
      "source": []
    }
  ],
  "metadata": {
    "kernelspec": {
      "display_name": "Python 3 (ipykernel)",
      "language": "python",
      "name": "python3"
    },
    "language_info": {
      "codemirror_mode": {
        "name": "ipython",
        "version": 3
      },
      "file_extension": ".py",
      "mimetype": "text/x-python",
      "name": "python",
      "nbconvert_exporter": "python",
      "pygments_lexer": "ipython3",
      "version": "3.10.9"
    },
    "colab": {
      "provenance": []
    }
  },
  "nbformat": 4,
  "nbformat_minor": 5
}