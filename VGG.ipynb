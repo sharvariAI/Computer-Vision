{
  "nbformat": 4,
  "nbformat_minor": 0,
  "metadata": {
    "colab": {
      "provenance": [],
      "gpuType": "T4"
    },
    "kernelspec": {
      "name": "python3",
      "display_name": "Python 3"
    },
    "language_info": {
      "name": "python"
    },
    "accelerator": "GPU"
  },
  "cells": [
    {
      "cell_type": "code",
      "execution_count": 6,
      "metadata": {
        "id": "50nfCF_5cbHV"
      },
      "outputs": [],
      "source": [
        "#vgg model\n",
        "from tensorflow.keras.preprocessing.image import load_img\n",
        "from tensorflow.keras.preprocessing.image import img_to_array\n",
        "from keras.applications.vgg16 import VGG16\n",
        "from keras.applications.vgg16 import decode_predictions\n",
        "from keras.applications.vgg16 import preprocess_input"
      ]
    },
    {
      "cell_type": "code",
      "source": [
        "# Load the VGG16 model\n",
        "image = load_img('/content/monastery.jpg',target_size=(224,224))"
      ],
      "metadata": {
        "id": "aFh1aZC8czXZ"
      },
      "execution_count": 45,
      "outputs": []
    },
    {
      "cell_type": "code",
      "source": [
        "image=img_to_array(image)"
      ],
      "metadata": {
        "id": "YoR_z0sIdZxn"
      },
      "execution_count": 46,
      "outputs": []
    },
    {
      "cell_type": "code",
      "source": [
        "image"
      ],
      "metadata": {
        "colab": {
          "base_uri": "https://localhost:8080/"
        },
        "id": "jQ2SmRuMeVR6",
        "outputId": "a4752790-0b2d-4616-b250-7d97a5fb4861"
      },
      "execution_count": 47,
      "outputs": [
        {
          "output_type": "execute_result",
          "data": {
            "text/plain": [
              "array([[[ 16.,  15.,  10.],\n",
              "        [ 31.,  27.,  18.],\n",
              "        [ 33.,  34.,  28.],\n",
              "        ...,\n",
              "        [ 19.,  16.,   9.],\n",
              "        [ 18.,  18.,   8.],\n",
              "        [  9.,  10.,   5.]],\n",
              "\n",
              "       [[  7.,   6.,   2.],\n",
              "        [ 16.,  13.,   6.],\n",
              "        [ 17.,  18.,  10.],\n",
              "        ...,\n",
              "        [ 23.,  20.,  11.],\n",
              "        [ 24.,  23.,  18.],\n",
              "        [ 10.,  11.,   5.]],\n",
              "\n",
              "       [[  8.,   9.,   4.],\n",
              "        [ 20.,  19.,  14.],\n",
              "        [ 11.,  12.,   6.],\n",
              "        ...,\n",
              "        [ 18.,  16.,   4.],\n",
              "        [ 25.,  24.,  20.],\n",
              "        [ 24.,  25.,  17.]],\n",
              "\n",
              "       ...,\n",
              "\n",
              "       [[173., 203., 214.],\n",
              "        [184., 208., 220.],\n",
              "        [189., 216., 223.],\n",
              "        ...,\n",
              "        [ 13.,  15.,  12.],\n",
              "        [  9.,  11.,  10.],\n",
              "        [ 14.,  16.,  15.]],\n",
              "\n",
              "       [[147., 180., 195.],\n",
              "        [166., 198., 211.],\n",
              "        [174., 202., 214.],\n",
              "        ...,\n",
              "        [ 13.,  15.,  12.],\n",
              "        [  8.,  10.,   7.],\n",
              "        [ 14.,  16.,  13.]],\n",
              "\n",
              "       [[153., 190., 208.],\n",
              "        [153., 188., 208.],\n",
              "        [163., 196., 213.],\n",
              "        ...,\n",
              "        [ 10.,  12.,   9.],\n",
              "        [ 11.,  13.,  10.],\n",
              "        [ 10.,  12.,   9.]]], dtype=float32)"
            ]
          },
          "metadata": {},
          "execution_count": 47
        }
      ]
    },
    {
      "cell_type": "code",
      "source": [
        "# Reshape the data for model\n",
        "image = image.reshape((1, image.shape[0], image.shape[1], image.shape[2]))"
      ],
      "metadata": {
        "id": "Aaqv0hPqeWS2"
      },
      "execution_count": 48,
      "outputs": []
    },
    {
      "cell_type": "code",
      "source": [
        "image.shape"
      ],
      "metadata": {
        "colab": {
          "base_uri": "https://localhost:8080/"
        },
        "id": "aKTjIRcleiyX",
        "outputId": "05e368d1-5f7f-41de-845e-9903e9a31b3d"
      },
      "execution_count": 49,
      "outputs": [
        {
          "output_type": "execute_result",
          "data": {
            "text/plain": [
              "(1, 224, 224, 3)"
            ]
          },
          "metadata": {},
          "execution_count": 49
        }
      ]
    },
    {
      "cell_type": "code",
      "source": [
        "## Preprocess the input image\n",
        "preprocessed_image = preprocess_input(image)"
      ],
      "metadata": {
        "id": "a3lyRWf5ekrn"
      },
      "execution_count": 50,
      "outputs": []
    },
    {
      "cell_type": "code",
      "source": [
        "# Load the VGG16 model\n",
        "model = VGG16()\n"
      ],
      "metadata": {
        "id": "60xmllr5ezPI"
      },
      "execution_count": 51,
      "outputs": []
    },
    {
      "cell_type": "code",
      "source": [
        "# Predict the image class\n",
        "predictions = model.predict(preprocessed_image)"
      ],
      "metadata": {
        "colab": {
          "base_uri": "https://localhost:8080/"
        },
        "id": "0jq76nwRe4eH",
        "outputId": "7801163d-b9fb-4a50-8489-e3b7aa287bd9"
      },
      "execution_count": 52,
      "outputs": [
        {
          "output_type": "stream",
          "name": "stdout",
          "text": [
            "1/1 [==============================] - 0s 150ms/step\n"
          ]
        }
      ]
    },
    {
      "cell_type": "code",
      "source": [
        "predictions"
      ],
      "metadata": {
        "id": "Sw-5cgB9fngl"
      },
      "execution_count": null,
      "outputs": []
    },
    {
      "cell_type": "code",
      "source": [
        "#convert probabilities to class labels\n",
        "decoded_predictions = decode_predictions(predictions)"
      ],
      "metadata": {
        "id": "LP81HxMRfqeX"
      },
      "execution_count": 54,
      "outputs": []
    },
    {
      "cell_type": "code",
      "source": [
        "decoded_predictions"
      ],
      "metadata": {
        "colab": {
          "base_uri": "https://localhost:8080/"
        },
        "id": "xaoC6ww8f0t3",
        "outputId": "925c0b8a-11e1-4047-926c-e1cb72f385d4"
      },
      "execution_count": 56,
      "outputs": [
        {
          "output_type": "execute_result",
          "data": {
            "text/plain": [
              "[[('n04523525', 'vault', 0.59581345),\n",
              "  ('n03781244', 'monastery', 0.25956258),\n",
              "  ('n03028079', 'church', 0.08881104),\n",
              "  ('n04005630', 'prison', 0.017295055),\n",
              "  ('n04532670', 'viaduct', 0.013712029)]]"
            ]
          },
          "metadata": {},
          "execution_count": 56
        }
      ]
    },
    {
      "cell_type": "code",
      "source": [],
      "metadata": {
        "id": "zvaEB7AAf1pH"
      },
      "execution_count": 44,
      "outputs": []
    }
  ]
}